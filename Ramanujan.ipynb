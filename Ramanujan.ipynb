{
 "cells": [
  {
   "cell_type": "code",
   "execution_count": null,
   "metadata": {},
   "outputs": [],
   "source": [
    "def eigenvalues(g):\n",
    "    return sorted(g.adjacency_matrix().eigenvalues())"
   ]
  },
  {
   "cell_type": "code",
   "execution_count": null,
   "metadata": {},
   "outputs": [],
   "source": [
    "# The Ramanujan bound for a 4-regular graph\n",
    "N(2*sqrt(3))"
   ]
  },
  {
   "cell_type": "code",
   "execution_count": null,
   "metadata": {},
   "outputs": [],
   "source": [
    "# A 4-regular Ramanujan graph with 20 vertices, constructed using Brandt matrices\n",
    "M = BrandtModule(2,175)\n",
    "G = Graph(M.hecke_matrix(3),format='adjacency_matrix')"
   ]
  },
  {
   "cell_type": "code",
   "execution_count": null,
   "metadata": {},
   "outputs": [],
   "source": [
    "G.num_verts()"
   ]
  },
  {
   "cell_type": "code",
   "execution_count": null,
   "metadata": {},
   "outputs": [],
   "source": [
    "G.plot()"
   ]
  },
  {
   "cell_type": "code",
   "execution_count": null,
   "metadata": {},
   "outputs": [],
   "source": [
    "eigenvalues(G)"
   ]
  },
  {
   "cell_type": "code",
   "execution_count": null,
   "metadata": {},
   "outputs": [],
   "source": [
    "G.diameter()"
   ]
  },
  {
   "cell_type": "code",
   "execution_count": null,
   "metadata": {},
   "outputs": [],
   "source": [
    "# Another 4-regular graph with 20 vertices, a 4 x 5 wrapping checkerboard pattern.\n",
    "# Its eigenvalues are 2*(cos(2*pi*n/4)+cos(2*pi*m/5)) for integer m, n\n",
    "# One of the eigenvalues is 2*(-1+cos(4*pi/5)) < -2 * sqrt(3), so the graph is not Ramanujan\n",
    "H=graphs.CycleGraph(4).cartesian_product(graphs.CycleGraph(5))"
   ]
  },
  {
   "cell_type": "code",
   "execution_count": null,
   "metadata": {},
   "outputs": [],
   "source": [
    "H.plot()"
   ]
  },
  {
   "cell_type": "code",
   "execution_count": null,
   "metadata": {},
   "outputs": [],
   "source": [
    "eigenvalues(H)"
   ]
  },
  {
   "cell_type": "code",
   "execution_count": null,
   "metadata": {},
   "outputs": [],
   "source": [
    "H.diameter()"
   ]
  },
  {
   "cell_type": "code",
   "execution_count": null,
   "metadata": {},
   "outputs": [],
   "source": [
    "# The adjacency matrix for the graph constructed in the second lecture.\n",
    "M = BrandtModule(3,5)\n",
    "M.hecke_matrix(2)"
   ]
  },
  {
   "cell_type": "code",
   "execution_count": null,
   "metadata": {},
   "outputs": [],
   "source": [
    "Graph(M.hecke_matrix(2)).plot()"
   ]
  },
  {
   "cell_type": "code",
   "execution_count": null,
   "metadata": {},
   "outputs": [],
   "source": [
    "# The eigenvalues of some Brandt matrices...\n",
    "M = BrandtModule(3,5)\n",
    "[M.hecke_matrix(n).eigenvalues()[1] for n in range(1,24)]"
   ]
  },
  {
   "cell_type": "code",
   "execution_count": null,
   "metadata": {},
   "outputs": [],
   "source": [
    "# ...which just happen to be coefficients in the power series expansion of this infinite product...\n",
    "R.<q>=PowerSeriesRing(QQ)\n",
    "q*product((1-q^n)*(1-q^(3*n))*(1-q^(5*n))*(1-q^(15*n)) for n in range(1,23))+O(q^24)"
   ]
  },
  {
   "cell_type": "code",
   "execution_count": null,
   "metadata": {},
   "outputs": [],
   "source": [
    "# ...which just happens to be a modular form!\n",
    "M = ModularForms(Gamma0(15))\n",
    "M.prec(24)\n",
    "M.cuspidal_subspace().gens()"
   ]
  }
 ],
 "metadata": {
  "kernelspec": {
   "display_name": "SageMath 9.1",
   "language": "sage",
   "name": "sagemath"
  },
  "language_info": {
   "codemirror_mode": {
    "name": "ipython",
    "version": 3
   },
   "file_extension": ".py",
   "mimetype": "text/x-python",
   "name": "python",
   "nbconvert_exporter": "python",
   "pygments_lexer": "ipython3",
   "version": "3.7.3"
  }
 },
 "nbformat": 4,
 "nbformat_minor": 2
}
